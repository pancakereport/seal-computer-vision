{
 "cells": [
  {
   "cell_type": "code",
   "execution_count": null,
   "id": "8566313f",
   "metadata": {},
   "outputs": [],
   "source": [
    "import pandas as pd"
   ]
  },
  {
   "cell_type": "markdown",
   "id": "b78ea0bd",
   "metadata": {},
   "source": [
    "## Get annotations from roboflow in the right format\n",
    "Reasons for this notebook:\n",
    "\n",
    "Roboflow outputted blank lines for tiles that were marked null (i.e. did not have any annotations on them). These blank lines cause errors when running anchor-optimization scripts and during training of the model. Typically, images without annotations should have the format:\n",
    "`/path/to/image.jpg,,,,,` See [here](https://github.com/fizyr/keras-retinanet#csv-datasets). The below code removes these blank lines. \n",
    "\n",
    "Additionally, Roboflow limits the number of images per free project to 10,000 so we used two projects. The first project is stored in `roboflow2` and the second project is stored in `roboflow_split5`. The below code concatenates the csv files.\n",
    "\n",
    "Finally, some accidental annotations were made. These annotations are less than a pixel wide/tall and are removed in the below code."
   ]
  },
  {
   "cell_type": "code",
   "execution_count": null,
   "id": "df1d6f82",
   "metadata": {},
   "outputs": [],
   "source": [
    "train_path = \"../Data/image-level-split/train/train_anno.csv\"\n",
    "val_path = \"../Data/image-level-split/valid/valid_anno.csv\"\n",
    "test_path = \"../Data/image-level-split/test/test_anno.csv\""
   ]
  },
  {
   "cell_type": "code",
   "execution_count": null,
   "id": "1f5737e7",
   "metadata": {},
   "outputs": [],
   "source": [
    "def process_csv(input_path, output_path): \n",
    "    \n",
    "    # remove the blank lines\n",
    "    \n",
    "    df1 = pd.read_csv(input_path, header=None)\n",
    "    print(\"dataframe 1 shape\", df1.shape)\n",
    "\n",
    "    # rename columns\n",
    "    \n",
    "    df1.rename(columns={0:\"image\", 1:\"x1\", 2:\"y1\", 3:\"x2\", 4:\"y2\", 5:\"class\", 6:\"image\"}, inplace=True)\n",
    "    \n",
    "    # remove the empty annotations \n",
    "    # see our EDA below for how we decided on 10 pixel cut offs.\n",
    "    \n",
    "    df1 = df1[abs(df1['x1'] - df1['x2']) >= 10]\n",
    "    df1 = df1[abs(df1['y1'] - df1['y2']) >= 10]\n",
    "    #print(\"dataframe 1 updated shape\", df1.shape)\n",
    "\n",
    "    # save to file and return the dataframe \n",
    "    \n",
    "    df1.to_csv(output_path, index=False, header=False)\n",
    "    return df1"
   ]
  },
  {
   "cell_type": "code",
   "execution_count": null,
   "id": "769f3be8",
   "metadata": {},
   "outputs": [],
   "source": [
    "train = process_csv(train_path, '../Data/image-level-split/train/annotations_final.csv')\n",
    "val = process_csv(val_path, '../Data/image-level-split/valid/annotations_final.csv')\n",
    "test = process_csv(test_path, '../Data/image-level-split/test/annotations_final.csv')"
   ]
  },
  {
   "cell_type": "code",
   "execution_count": null,
   "id": "14401aa7",
   "metadata": {},
   "outputs": [],
   "source": [
    "train"
   ]
  },
  {
   "cell_type": "markdown",
   "id": "2e102901",
   "metadata": {},
   "source": [
    "### Determine smallest legitimate bounding box\n",
    "\n",
    "Here we get a sense of the size of bounding boxes using the annotations in `roboflow2/train` which contains the bulk of our training images."
   ]
  },
  {
   "cell_type": "code",
   "execution_count": null,
   "id": "dc17853d",
   "metadata": {},
   "outputs": [],
   "source": [
    "df_train1 = pd.read_csv(train_path1, header=None)\n",
    "df_train1.rename(columns={0:\"image\", 1:\"x1\", 2:\"y1\", 3:\"x2\", 4:\"y2\", 5:\"class\", 6:\"image\"}, inplace=True)\n",
    "df_train1"
   ]
  },
  {
   "cell_type": "code",
   "execution_count": null,
   "id": "53755368",
   "metadata": {},
   "outputs": [],
   "source": [
    "df_train1['width'] = abs(df_train1['x1'] - df_train1['x2'])\n",
    "df_train1['height'] = abs(df_train1['y1'] - df_train1['y2'])"
   ]
  },
  {
   "cell_type": "code",
   "execution_count": null,
   "id": "c84c9336",
   "metadata": {},
   "outputs": [],
   "source": [
    "df_train1.sort_values('width', ascending=True).head(20)"
   ]
  },
  {
   "cell_type": "code",
   "execution_count": null,
   "id": "ea3d2a78",
   "metadata": {},
   "outputs": [],
   "source": [
    "df_train1.sort_values('height', ascending=True).head(20)"
   ]
  },
  {
   "cell_type": "markdown",
   "id": "8a9f04e3",
   "metadata": {},
   "source": [
    "### Quick summarization\n",
    "Determine the number of elephant seals in each class for each split of the data"
   ]
  },
  {
   "cell_type": "code",
   "execution_count": null,
   "id": "002233c8",
   "metadata": {},
   "outputs": [],
   "source": [
    "train_cows =  len(train[train['class'] == 'cow'])\n",
    "train_bulls =  len(train[train['class'] == 'bull'])\n",
    "train_pups =  len(train[train['class'] == 'pup'])\n",
    "\n",
    "print(\"In the training dataset, there are\", train_bulls, \"bulls,\", train_cows, \"cows, and\", train_pups, \n",
    "      \"pups for a total of\", len(train), \"seals.\")"
   ]
  },
  {
   "cell_type": "code",
   "execution_count": null,
   "id": "5d316de5",
   "metadata": {},
   "outputs": [],
   "source": [
    "val_cows =  len(val[val['class'] == 'cow'])\n",
    "val_bulls =  len(val[val['class'] == 'bull'])\n",
    "val_pups =  len(val[val['class'] == 'pup'])\n",
    "\n",
    "print(\"In the validation dataset, there are\", val_bulls, \"bulls,\", val_cows, \"cows, and\", val_pups, \n",
    "      \"pups for a total of\", len(val), \"seals.\")"
   ]
  },
  {
   "cell_type": "code",
   "execution_count": null,
   "id": "c6f8dbdb",
   "metadata": {},
   "outputs": [],
   "source": [
    "test_cows =  len(test[test['class'] == 'cow'])\n",
    "test_bulls =  len(test[test['class'] == 'bull'])\n",
    "test_pups =  len(test[test['class'] == 'pup'])\n",
    "\n",
    "print(\"In the testing dataset, there are\", test_bulls, \"bulls,\", test_cows, \"cows, and\", test_pups, \n",
    "      \"pups for a total of\", len(test), \"seals.\")"
   ]
  }
 ],
 "metadata": {
  "kernelspec": {
   "display_name": "Python 3 (ipykernel)",
   "language": "python",
   "name": "python3"
  },
  "language_info": {
   "codemirror_mode": {
    "name": "ipython",
    "version": 3
   },
   "file_extension": ".py",
   "mimetype": "text/x-python",
   "name": "python",
   "nbconvert_exporter": "python",
   "pygments_lexer": "ipython3",
   "version": "3.10.8"
  }
 },
 "nbformat": 4,
 "nbformat_minor": 5
}
