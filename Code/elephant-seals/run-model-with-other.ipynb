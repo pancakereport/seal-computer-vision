{
 "cells": [
  {
   "cell_type": "code",
   "execution_count": null,
   "metadata": {},
   "outputs": [],
   "source": [
    "import tensorflow as tf\n",
    "tf.config.list_physical_devices('GPU')"
   ]
  },
  {
   "cell_type": "code",
   "execution_count": null,
   "metadata": {},
   "outputs": [],
   "source": [
    "# silence warnings\n",
    "import os\n",
    "os.environ['TF_CPP_MIN_LOG_LEVEL'] = '2' "
   ]
  },
  {
   "cell_type": "code",
   "execution_count": null,
   "metadata": {},
   "outputs": [],
   "source": [
    "%matplotlib inline\n",
    "\n",
    "%reload_ext autoreload\n",
    "%autoreload 2\n",
    "\n",
    "import keras\n",
    "\n",
    "from keras_retinanet.models import retinanet\n",
    "from keras_retinanet import models\n",
    "from keras_retinanet.utils.image import read_image_bgr, preprocess_image, resize_image\n",
    "from keras_retinanet.utils.visualization import draw_box, draw_caption\n",
    "from keras_retinanet.utils.colors import label_color\n",
    "\n",
    "import matplotlib.pyplot as plt\n",
    "import cv2\n",
    "import numpy as np\n",
    "import time\n",
    "import json"
   ]
  },
  {
   "cell_type": "code",
   "execution_count": null,
   "metadata": {
    "tags": []
   },
   "outputs": [],
   "source": [
    "! ../../../keras-retinanet/keras_retinanet/bin/train.py --weights ../../../resnet50_coco_best_v2.1.0.h5 \\\n",
    "--batch-size 2 --steps 500 --epochs 20 \\\n",
    "--snapshot-path ../../Data/elephant-seals/snapshots-with-other \\\n",
    "--random-transform \\\n",
    "--config ../../Data/elephant-seals/config-with-other.ini \\\n",
    "csv ../../Data/elephant-seals/train/annotations_final.csv ../../Data/elephant-seals/classes-with-other.csv \\\n",
    "--val-annotations ../../Data/elephant-seals/valid/annotations_final.csv"
   ]
  },
  {
   "cell_type": "code",
   "execution_count": null,
   "metadata": {},
   "outputs": [],
   "source": [
    "# convert the model weights to a usable format\n",
    "! ../../../keras-retinanet/keras_retinanet/bin/convert_model.py --config ../Data/image-level-split/elephant-config-image-level.ini  ../../Data/elephant-seals/snapshots-with-other/resnet50_csv_18.h5 ../Data/image-level-split/model_18_epochs.h5\n",
    "# run the model on test set\n",
    "! ../../../keras-retinanet/keras_retinanet/bin/evaluate.py csv ../Data/image-level-split/test/annotations_final.csv ../Data/elephant_classes.csv ../Data/image-level-split/model_18_epochs.h5"
   ]
  },
  {
   "cell_type": "code",
   "execution_count": null,
   "metadata": {
    "tags": []
   },
   "outputs": [],
   "source": [
    "def get_session():\n",
    "    config = tf.compat.v1.ConfigProto()\n",
    "    config.gpu_options.allow_growth = True\n",
    "    return tf.compat.v1.Session(config=config)\n",
    "\n",
    "tf.compat.v1.keras.backend.set_session(get_session())"
   ]
  },
  {
   "cell_type": "code",
   "execution_count": null,
   "metadata": {
    "tags": []
   },
   "outputs": [],
   "source": [
    "model_path = '../../Data/elephant-seals/models/elephant_seal_model_with_other.h5'\n",
    "\n",
    "model = models.load_model(model_path, backbone_name='resnet50')\n",
    "\n",
    "labels_to_names = {0: 'bull', 1: 'cow', 2: 'pup', 3: 'other'}"
   ]
  },
  {
   "cell_type": "code",
   "execution_count": null,
   "metadata": {},
   "outputs": [],
   "source": [
    "image_dir = \"../../Data/elephant-seals/test/\"\n",
    "\n",
    "image_list = []\n",
    "for root, dirs, files in os.walk(image_dir):\n",
    "    for filename in files:\n",
    "        if filename.lower().endswith(('.jpg')):\n",
    "            image_list.append(image_dir + filename)\n",
    "\n",
    "print(len(image_list))"
   ]
  },
  {
   "cell_type": "code",
   "execution_count": null,
   "metadata": {},
   "outputs": [],
   "source": [
    "min_score = 0.5\n",
    "\n",
    "detections = {}\n",
    "\n",
    "total_time = 0\n",
    "\n",
    "for image_path in image_list:\n",
    "    \n",
    "    image = read_image_bgr(image_path)\n",
    "          \n",
    "    image = preprocess_image(image)\n",
    "    image, scale = resize_image(image)\n",
    "    \n",
    "    start = time.time()\n",
    "    boxes, scores, labels = model.predict_on_batch(np.expand_dims(image, axis=0))\n",
    "    total_time += time.time() - start\n",
    "    \n",
    "    boxes /= scale  \n",
    "        \n",
    "    if any(score >= min_score for score in scores[0]):\n",
    "        detections[image_path] = []\n",
    "        \n",
    "    for box, score, label in zip(boxes[0], scores[0], labels[0]):\n",
    "        if score < min_score:\n",
    "            break\n",
    "        \n",
    "        b = box.astype(int)    \n",
    "        detections[image_path].append({\"box\" : b, \"label\" : label, \"score\" : score})\n",
    "        \n",
    "            \n",
    "print(\"Finished, time per image:\", total_time/len(image_list))"
   ]
  },
  {
   "cell_type": "code",
   "execution_count": null,
   "metadata": {},
   "outputs": [],
   "source": [
    "# output model detections\n",
    "class MyEncoder(json.JSONEncoder):\n",
    "    def default(self, obj):\n",
    "        if isinstance(obj, np.integer):\n",
    "            return int(obj)\n",
    "        elif isinstance(obj, np.floating):\n",
    "            return float(obj)\n",
    "        elif isinstance(obj, np.ndarray):\n",
    "            return obj.tolist()\n",
    "        else:\n",
    "            return super(MyEncoder, self).default(obj)\n",
    "        \n",
    "with open('../Data/image-level-split/test_detections.json', 'w') as fp:\n",
    "    json.dump(detections, fp, cls=MyEncoder)"
   ]
  },
  {
   "cell_type": "code",
   "execution_count": null,
   "metadata": {},
   "outputs": [],
   "source": [
    "random_image_list = [\n",
    "    '../Data/image-level-split/test/5MSL3749-174_png.rf.1ade9f0908936fd853dc2ae9a0f00233.jpg',\n",
    "     '../Data/image-level-split/test/5MSL3764-21_png.rf.d67ea7373c5b15df832b5e11d4d59192.jpg',\n",
    "     '../Data/image-level-split/test/5MSL3819-65_png.rf.7cf3c5254e14e6b5cf5905c04ef3f848.jpg',\n",
    "     '../Data/image-level-split/test/5MSL0109-125_png.rf.0999b3e2f7414ce671eb6ece5f074af1.jpg',\n",
    "     '../Data/image-level-split/test/5MSL0109-4_png.rf.4c177bee4ff3cdfb044448de4af8f62c.jpg',\n",
    "     '../Data/image-level-split/test/5MSL0087-138_png.rf.6843d941557d06ab666d79fe30071175.jpg',\n",
    "     '../Data/image-level-split/test/5MSL4416-99_png.rf.1e915260973f7fd233ef130506a02836.jpg',\n",
    "     '../Data/image-level-split/test/4MSL0120-163_png.rf.fec5aded76dfdbf287db0a33cffecb65.jpg',\n",
    "     '../Data/image-level-split/test/5MSL3749-24_png.rf.c0d599cb5e1a10d9bb787cbdbef5e201.jpg',\n",
    "     '../Data/image-level-split/test/5MSL1479-6_png.rf.c9a1b45ca0cc3abd059facca39256aff.jpg',\n",
    "     '../Data/image-level-split/test/5MSL3749-146_png.rf.adb2315a6cc0e239980419d05ae2fcab.jpg',\n",
    "     '../Data/image-level-split/test/4MSL0119-104_png.rf.0f73c19f543a90b15c12dc72bf972446.jpg',\n",
    "     '../Data/image-level-split/test/5MSL0087-120_png.rf.ea046df0b3121de73453abcfc2f6fcb6.jpg',\n",
    "     '../Data/image-level-split/test/5MSL0109-84_png.rf.e1d78f59110465473cd83883edd58ab0.jpg',\n",
    "     '../Data/image-level-split/test/5MSL3436-6_png.rf.4ea434812bb5b4e80c37b85c5103168d.jpg',\n",
    "     '../Data/image-level-split/test/5MSL0095-98_png.rf.d0a2d706df7b447719994fd7de1f7d36.jpg',\n",
    "     '../Data/image-level-split/test/5MSL0087-22_png.rf.b500d2b83eb6a2b9d76fcd6cbe9c55af.jpg',\n",
    "     '../Data/image-level-split/test/5MSL0109-95_png.rf.73ae554e192ba0a1cb271ec123f8330f.jpg',\n",
    "     '../Data/image-level-split/test/5MSL3436-15_png.rf.10de22d575068c5c4d52c255e5c56cfa.jpg',\n",
    "     '../Data/image-level-split/test/4MSL0120-169_png.rf.374080801c483f31562d9e265eb66652.jpg',\n",
    "     '../Data/image-level-split/test/MA263076-124_png.rf.42e9d6beed2e154f9051414a40aae592.jpg',\n",
    "     '../Data/image-level-split/test/5MSL0089-142_png.rf.00c837be2517e38115a9bcd28e1acb21.jpg',\n",
    "     '../Data/image-level-split/test/5MSL3764-132_png.rf.eaaa0fa497455e8c42fb6698f4f1f125.jpg',\n",
    "     '../Data/image-level-split/test/5MSL3436-115_png.rf.d2ebe4ef97473624b43c17e3373c338d.jpg',\n",
    "     '../Data/image-level-split/test/5MSL3764-18_png.rf.7dd55fc701e3f0ec09ef893668bbb45d.jpg',\n",
    "     '../Data/image-level-split/test/5MSL3764-134_png.rf.294fa1f2ec3227e20995494de77ac3f4.jpg',\n",
    "     '../Data/image-level-split/test/5MSL3764-76_png.rf.2bfc3f67fdfefc7715222d7aad08ae9c.jpg',\n",
    "     '../Data/image-level-split/test/4MSL0120-140_png.rf.03e7f0b7cf647b4b8793a1fbaa15844e.jpg',\n",
    "     '../Data/image-level-split/test/5MSL3819-55_png.rf.a7ec0f8019e2d7ee1d781867ea416e53.jpg',\n",
    "     '../Data/image-level-split/test/5MSL0087-112_png.rf.d74dfca1a15442986c922680263769f5.jpg',\n",
    "     '../Data/image-level-split/test/5MSL0019-47_png.rf.abd556ad1262d88c05f035864ab95be2.jpg',\n",
    "     '../Data/image-level-split/test/MA262988-171_png.rf.6d746f67067125adb31283c14052f12c.jpg',\n",
    "     '../Data/image-level-split/test/4MSL0120-175_png.rf.93c8f9d5153f911143651f418f06eacb.jpg',\n",
    "     '../Data/image-level-split/test/4MSL0119-148_png.rf.e00ecbfdbf3158afb96f78f40ceecfcd.jpg',\n",
    "     '../Data/image-level-split/test/4MSL0119-113_png.rf.0c51d0505db734bdeae1913e43760ebf.jpg',\n",
    "     '../Data/image-level-split/test/4MSL0119-67_png.rf.758a0d45240eaa61ad24cf86298f3332.jpg',\n",
    "     '../Data/image-level-split/test/5MSL3819-48_png.rf.b37d718edf1faf1f279c760d23685211.jpg',\n",
    "     '../Data/image-level-split/test/5MSL3819-168_png.rf.c791f19bc213d15a6cb4a1c8839261c0.jpg',\n",
    "     '../Data/image-level-split/test/5MSL0049-23_png.rf.aa4142b069ab92c6eafd7f01633095d5.jpg',\n",
    "     '../Data/image-level-split/test/5MSL4383-68_png.rf.5360242ffe1ca1a0da6d0062d96169b0.jpg']"
   ]
  },
  {
   "cell_type": "code",
   "execution_count": null,
   "metadata": {},
   "outputs": [],
   "source": [
    "# visualize adjusted output\n",
    "visualize = True\n",
    "\n",
    "for image_path in random_image_list: \n",
    "    \n",
    "    image = read_image_bgr(image_path)\n",
    "    print(image_path)\n",
    "    \n",
    "    if visualize:\n",
    "        draw = image.copy()\n",
    "        draw = cv2.cvtColor(draw, cv2.COLOR_BGR2RGB)\n",
    "        \n",
    "    image = preprocess_image(image)\n",
    "    image, scale = resize_image(image)\n",
    "    \n",
    "    start = time.time()\n",
    "    boxes, scores, labels = model.predict_on_batch(np.expand_dims(image, axis=0))\n",
    "    total_time += time.time() - start \n",
    "    \n",
    "    boxes /= scale\n",
    "    if any(score >= min_score for score in scores [0]):\n",
    "        detections[image_path] = []\n",
    "    \n",
    "    for box, score, label in zip(boxes[0], scores[0], labels[0]):\n",
    "        if score < min_score:\n",
    "            break\n",
    "        \n",
    "        b = box.astype(int)\n",
    "        detections[image_path].append({\"box\" : b, \"label\" : label, \"score\" : score})\n",
    "        \n",
    "        # don't visualize the annotations along the edge of the tile\n",
    "        if b[0] == 0 or b[1] == 0 or b[2] == 499 or b[3] == 499:\n",
    "            continue\n",
    "        \n",
    "        if visualize: \n",
    "            color = label_color(label)\n",
    "            \n",
    "            draw_box(draw, b, color=color)\n",
    "            \n",
    "            # # uncomment the following to see labels and confidence scores\n",
    "            # caption = \"{} {:.3f}\".format(labels_to_names[label], score)\n",
    "            # draw_caption(draw, b, caption)\n",
    "            \n",
    "    if any(score >= min_score for score in scores[0]):\n",
    "        if visualize:\n",
    "            plt.figure(figsize=(15, 15))\n",
    "            plt.axis('off')\n",
    "            plt.imshow(draw)\n",
    "            plt.show()\n",
    "            \n",
    "print(\"Finished, time per image:\", total_time/len(random_image_list))"
   ]
  }
 ],
 "metadata": {
  "kernelspec": {
   "display_name": "Python 3 (ipykernel)",
   "language": "python",
   "name": "python3"
  },
  "language_info": {
   "codemirror_mode": {
    "name": "ipython",
    "version": 3
   },
   "file_extension": ".py",
   "mimetype": "text/x-python",
   "name": "python",
   "nbconvert_exporter": "python",
   "pygments_lexer": "ipython3",
   "version": "3.10.8"
  }
 },
 "nbformat": 4,
 "nbformat_minor": 4
}
